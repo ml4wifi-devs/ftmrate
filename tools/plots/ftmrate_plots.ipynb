{
 "cells": [
  {
   "cell_type": "code",
   "execution_count": 107,
   "metadata": {},
   "outputs": [],
   "source": [
    "import jax\n",
    "import jax.numpy as jnp\n",
    "import numpy as np\n",
    "import pandas as pd\n",
    "import matplotlib.pylab as pl\n",
    "import matplotlib.pyplot as plt\n",
    "from matplotlib.transforms import Bbox\n",
    "import seaborn as sns\n",
    "import tensorflow_probability.substrates.jax as tfp\n",
    "\n",
    "from common import PLOT_PARAMS, COLUMN_WIDTH\n",
    "from ml4wifi.agents import BaseAgent\n",
    "from ml4wifi.agents.kalman_filter import kalman_filter\n",
    "from ml4wifi.envs.simple_wifi.ftmrate_sim import FRAMES_PER_SECOND, FIRST_MEASUREMENT_SHIFT\n",
    "from ml4wifi.utils.measurement_manager import DEFAULT_INTERVAL, measurement_manager\n",
    "from ml4wifi.utils.wifi_specs import *\n",
    "\n",
    "tfb = tfp.bijectors\n",
    "tfd = tfp.distributions\n",
    "\n",
    "COLUMN_HIGHT = 2 * COLUMN_WIDTH / (1 + np.sqrt(5))\n",
    "PLOT_WIDTH = 2 * COLUMN_WIDTH - COLUMN_HIGHT"
   ]
  },
  {
   "cell_type": "code",
   "execution_count": 2,
   "metadata": {},
   "outputs": [],
   "source": [
    "SEED = 66\n",
    "SIMULATION_TIME = 6\n",
    "START_POSITION = 0.0\n",
    "VELOCITY = 2.0\n",
    "\n",
    "SAMPLE_SIZE = 1e5\n",
    "COLOR_GRAY = \"tab:gray\"\n",
    "COLOR_BLUE = \"tab:blue\""
   ]
  },
  {
   "cell_type": "markdown",
   "metadata": {},
   "source": [
    "## Aggregate distributions"
   ]
  },
  {
   "cell_type": "code",
   "execution_count": 3,
   "metadata": {},
   "outputs": [],
   "source": [
    "key = jax.random.PRNGKey(SEED)\n",
    "key, init_key = jax.random.split(key)\n",
    "total_frames = int(FRAMES_PER_SECOND * SIMULATION_TIME)\n",
    "time2frames = lambda time: jnp.int32(jnp.floor(FRAMES_PER_SECOND * time))\n",
    "\n",
    "agent: BaseAgent = kalman_filter()\n",
    "measurements_manager = measurement_manager(DEFAULT_INTERVAL)\n",
    "\n",
    "time = jnp.linspace(0.0, SIMULATION_TIME, total_frames) + FIRST_MEASUREMENT_SHIFT\n",
    "true_distance = jnp.linspace(0.0, VELOCITY * SIMULATION_TIME, total_frames) + START_POSITION"
   ]
  },
  {
   "cell_type": "markdown",
   "metadata": {},
   "source": [
    "It may take a few minutes (~3 min), since no jax.jit() is applied..."
   ]
  },
  {
   "cell_type": "code",
   "execution_count": 4,
   "metadata": {},
   "outputs": [
    {
     "name": "stdout",
     "output_type": "stream",
     "text": [
      "Second 0 of 6...\n",
      "Second 1 of 6...\n",
      "Second 2 of 6...\n",
      "Second 3 of 6...\n",
      "Second 4 of 6...\n",
      "Second 5 of 6...\n"
     ]
    }
   ],
   "source": [
    "distance_distribution_acc = []\n",
    "distance_measured_acc = jnp.empty(total_frames)\n",
    "sec_counter = 0\n",
    "state = agent.init(init_key)\n",
    "m_state = measurements_manager.init()\n",
    "for frame_id in range(0, total_frames):\n",
    "\n",
    "    key, noise_key, update_key, sample_key, results_key = jax.random.split(key, 5)\n",
    "\n",
    "    m_state, measured = measurements_manager.update(m_state, true_distance[frame_id], time[frame_id], noise_key)\n",
    "    state = jax.lax.cond(measured, lambda: agent.update(state, update_key, m_state.distance, time[frame_id]), lambda: state)\n",
    "\n",
    "    distance_distribution_acc.append(agent.sample(state, sample_key, time[frame_id]))\n",
    "    distance_measured_acc = distance_measured_acc.at[frame_id].set(m_state.distance)\n",
    "\n",
    "    if frame_id % FRAMES_PER_SECOND == 0:\n",
    "        print(f\"Second {sec_counter} of {SIMULATION_TIME}...\")\n",
    "        sec_counter += 1\n"
   ]
  },
  {
   "cell_type": "markdown",
   "metadata": {},
   "source": [
    "## Prepare data"
   ]
  },
  {
   "cell_type": "markdown",
   "metadata": {},
   "source": [
    "Be sure to have every timestep dividable by *quant* -> it is important to synchronize boxplots"
   ]
  },
  {
   "cell_type": "code",
   "execution_count": 5,
   "metadata": {},
   "outputs": [],
   "source": [
    "time_order = [40 + i for i in range(16)]\n",
    "confidence_level = 0.95\n",
    "alpha = 1 - confidence_level\n",
    "\n",
    "m_timesteps = [4.0, 4.5, 5.0, 5.5]\n",
    "m_mask = jnp.array(list(map(time2frames, m_timesteps)))\n",
    "\n",
    "pred_timesteps = [4.6, 4.7, 4.8, 4.9]\n",
    "pred_mask = jnp.array(list(map(time2frames, pred_timesteps)))\n",
    "pred_constant_indeces = jnp.arange(time2frames(6.0), time2frames(6.5), 1, dtype=jnp.int32)"
   ]
  },
  {
   "cell_type": "code",
   "execution_count": 6,
   "metadata": {},
   "outputs": [],
   "source": [
    "key, sample_key = jax.random.split(key)\n",
    "\n",
    "m_distance_samples = list(map(lambda m: distance_distribution_acc[m].sample(sample_shape=SAMPLE_SIZE, seed=sample_key), m_mask))\n",
    "m_distance_samples = jnp.concatenate(m_distance_samples, axis=0)\n",
    "m_distance_samples = pd.DataFrame({\n",
    "    \"timestep\": jnp.repeat(jnp.array(m_timesteps) * 10, int(SAMPLE_SIZE)).astype(jnp.int32),\n",
    "    \"samples\": m_distance_samples,\n",
    "    \"category\": jnp.ones_like(m_distance_samples)\n",
    "})\n",
    "\n",
    "pred_distance_samples = list(map(lambda p: distance_distribution_acc[p].sample(sample_shape=SAMPLE_SIZE, seed=sample_key), pred_mask))\n",
    "pred_distance_samples = jnp.concatenate(pred_distance_samples, axis=0)\n",
    "pred_distance_samples = pd.DataFrame({\n",
    "    \"timestep\": jnp.repeat(jnp.array(pred_timesteps) * 10, int(SAMPLE_SIZE)).astype(jnp.int32),\n",
    "    \"samples\": pred_distance_samples,\n",
    "    \"category\": jnp.ones_like(pred_distance_samples)\n",
    "})"
   ]
  },
  {
   "cell_type": "markdown",
   "metadata": {},
   "source": [
    "## Plot data"
   ]
  },
  {
   "cell_type": "code",
   "execution_count": 119,
   "metadata": {},
   "outputs": [],
   "source": [
    "# Configure common parameters\n",
    "plt.rcParams.update(PLOT_PARAMS)\n",
    "plt.rcParams.update({'figure.figsize': (2 * COLUMN_WIDTH, COLUMN_HIGHT)})\n",
    "\n",
    "colors_viridis = pl.cm.viridis(jnp.linspace(0., 1., 5))[3:]\n",
    "colors_jet = pl.cm.jet(jnp.linspace(0., 1., 12))\n",
    "colors_gray = np.stack([np.array([0.5, 0.5, 0.5, 0.5]), np.array([0.5, 0.5, 0.5, 0.5])])\n",
    "\n",
    "ticks = jnp.array(sorted(m_timesteps + pred_timesteps))\n",
    "n_points = 200"
   ]
  },
  {
   "cell_type": "markdown",
   "metadata": {},
   "source": [
    "### Plot distance filtration and channel model"
   ]
  },
  {
   "cell_type": "code",
   "execution_count": 101,
   "metadata": {},
   "outputs": [
    {
     "data": {
      "image/png": "[encoded data removed]",
      "text/plain": [
       "<Figure size 504x155.745 with 2 Axes>"
      ]
     },
     "metadata": {
      "needs_background": "light"
     },
     "output_type": "display_data"
    }
   ],
   "source": [
    "# Create and adjust figure\n",
    "fig, axes = plt.subplots(1, 2, sharey=True, gridspec_kw={'width_ratios': [2, 1]})\n",
    "fig.subplots_adjust(wspace=0.015)\n",
    "\n",
    "# Plot boxes\n",
    "axes[0].scatter((time[m_mask] - 4) * 10, distance_measured_acc[m_mask], color='k', marker='x', label=\"measurements\", s=9)\n",
    "sns.boxplot(\n",
    "    x=\"timestep\", y=\"samples\", data=m_distance_samples, hue=\"category\",\n",
    "    order=time_order, ax=axes[0], width=0.2, palette=colors_viridis, showfliers=False\n",
    ")\n",
    "sns.boxplot(\n",
    "    x=\"timestep\", y=\"samples\", data=pred_distance_samples, hue=\"category\",\n",
    "    order=time_order, ax=axes[0], width=0.2, palette=colors_gray, showfliers=False\n",
    ")\n",
    "\n",
    "# Configure labels\n",
    "axes[0].set_xticks((ticks - 4) * 10)\n",
    "axes[0].set_xticklabels(ticks)\n",
    "axes[0].set_xlabel(r'time $t$ [s]')\n",
    "axes[0].set_ylabel(r'distance $\\rho$ [m]')\n",
    "axes[0].set_ylim(5.2, 12.5)\n",
    "dist_ylim = axes[0].get_ylim()\n",
    "\n",
    "# Modify legend\n",
    "rates_legend = axes[0].get_legend_handles_labels()\n",
    "axes[0].legend(rates_legend[0][:], [\"measurements\", \"measurement\\npoints\", \"predictions\"])\n",
    "\n",
    "# Calculate channel distance -> snr mapping\n",
    "distance_to_snr_scalar = lambda distance: REFERENCE_SNR - (REFERENCE_LOSS + 10 * EXPONENT * jnp.log10(distance))\n",
    "distance = jnp.linspace(dist_ylim[0], dist_ylim[1], 300)\n",
    "snr = distance_to_snr_scalar(distance)\n",
    "\n",
    "# Plot channel model\n",
    "snr_ticks = [31., 34., 37., 40.]\n",
    "axes[1].plot(snr, distance, label=r'$\\rho(\\gamma)$')\n",
    "axes[1].set_xlabel(r'SNR $\\gamma$ [dBm]')\n",
    "axes[1].set_xticks(snr_ticks)\n",
    "axes[1].set_ylim(dist_ylim)\n",
    "axes[1].set_xlim(snr[-1], snr[0])\n",
    "axes[1].tick_params('y', labelleft=False, left=False, labelright=True, right=True)\n",
    "axes[1].legend(title='Channel model')\n",
    "snr_ylim = axes[1].get_xlim()\n",
    "\n",
    "plt.savefig(\"distance_bars.pdf\", bbox_inches='tight')"
   ]
  },
  {
   "cell_type": "markdown",
   "metadata": {},
   "source": [
    "### Plot SNR filtration and data rates plots"
   ]
  },
  {
   "cell_type": "code",
   "execution_count": 71,
   "metadata": {},
   "outputs": [],
   "source": [
    "key, sample_key = jax.random.split(key)\n",
    "\n",
    "m_snr_samples = list(map(\n",
    "    lambda m: distance_to_snr(tfb.Softplus()(distance_distribution_acc[m])).sample(sample_shape=SAMPLE_SIZE, seed=sample_key), \n",
    "    m_mask\n",
    "))\n",
    "m_snr_samples = jnp.concatenate(m_snr_samples, axis=0)\n",
    "m_snr_samples = pd.DataFrame({\n",
    "    \"timestep\": jnp.repeat(jnp.array(m_timesteps) * 10, int(SAMPLE_SIZE)).astype(jnp.int32),\n",
    "    \"samples\": m_snr_samples,\n",
    "    \"category\": jnp.ones_like(m_snr_samples)\n",
    "})\n",
    "\n",
    "pred_snr_samples = list(map(\n",
    "    lambda p: distance_to_snr(tfb.Softplus()(distance_distribution_acc[p])).sample(sample_shape=SAMPLE_SIZE, seed=sample_key), \n",
    "    pred_mask\n",
    "))\n",
    "pred_snr_samples = jnp.concatenate(pred_snr_samples, axis=0)\n",
    "pred_snr_samples = pd.DataFrame({\n",
    "    \"timestep\": jnp.repeat(jnp.array(pred_timesteps) * 10, int(SAMPLE_SIZE)).astype(jnp.int32),\n",
    "    \"samples\": pred_snr_samples,\n",
    "    \"category\": jnp.ones_like(pred_snr_samples)\n",
    "})"
   ]
  },
  {
   "cell_type": "code",
   "execution_count": 123,
   "metadata": {},
   "outputs": [
    {
     "data": {
      "image/png": "[encoded data removed]",
      "text/plain": [
       "<Figure size 504x155.745 with 2 Axes>"
      ]
     },
     "metadata": {
      "needs_background": "light"
     },
     "output_type": "display_data"
    }
   ],
   "source": [
    "# Create and adjust figure\n",
    "fig, axes = plt.subplots(1, 2, sharey=True, gridspec_kw={'width_ratios': [2, 1]})\n",
    "fig.subplots_adjust(wspace=0.015)\n",
    "\n",
    "# Plot boxes\n",
    "sns.boxplot(\n",
    "    x=\"timestep\", y=\"samples\", data=m_snr_samples, hue=\"category\",\n",
    "    order=time_order, ax=axes[0], width=0.2, palette=colors_viridis, showfliers=False\n",
    ")\n",
    "sns.boxplot(\n",
    "    x=\"timestep\", y=\"samples\", data=pred_snr_samples, hue=\"category\",\n",
    "    order=time_order, ax=axes[0], width=0.2, palette=colors_gray, showfliers=False\n",
    ")\n",
    "\n",
    "# Configure labels\n",
    "axes[0].set_xticks((ticks - 4) * 10)\n",
    "axes[0].set_xticklabels(ticks)\n",
    "axes[0].set_yticks(snr_ticks)\n",
    "axes[0].set_xlabel(r'time $t$ [s]')\n",
    "axes[0].set_ylabel(r'SNR $\\gamma$ [dBm]')\n",
    "axes[0].set_ylim(snr_ylim)\n",
    "\n",
    "# Modify legend\n",
    "rates_legend = axes[0].get_legend_handles_labels()\n",
    "axes[0].legend(rates_legend[0][:], [\"measurement\\npoints\", \"predictions\"])\n",
    "\n",
    "snr_bbox = axes[0].get_position()\n",
    "\n",
    "# Calculate (snr, mcs) -> rate mapping\n",
    "snr = jnp.linspace(5., 50., n_points)\n",
    "distance = distance_to_snr.inverse(snr)\n",
    "exp_rates = jax.vmap(expected_rates)(distance)\n",
    "\n",
    "# Plot expected data rates\n",
    "rates_ticks = [0., 30., 60., 90., 120.,]\n",
    "for mode, (exp_rate, data_rate, c) in enumerate(zip(exp_rates.T, wifi_modes_rates, colors_jet)):\n",
    "    if mode >= 8:\n",
    "        axes[1].plot(exp_rate, snr, c=c, label=mode)\n",
    "        axes[1].axvline(data_rate, alpha=0.3, c=c, linestyle='--')\n",
    "\n",
    "axes[1].set_xlabel(r'Expected data rate $\\lambda$ [Mb/s]')\n",
    "axes[1].set_xticks(rates_ticks)\n",
    "axes[1].tick_params('y', labelleft=False, left=False, labelright=True, right=True)\n",
    "axes[1].set_ylim(snr_ylim)\n",
    "axes[1].legend(title='MCS')\n",
    "rates_ylim = axes[1].get_xlim()\n",
    "\n",
    "plt.savefig(\"snr_bars.pdf\", bbox_inches='tight')"
   ]
  },
  {
   "cell_type": "markdown",
   "metadata": {},
   "source": [
    "### Plot rates filtration"
   ]
  },
  {
   "cell_type": "code",
   "execution_count": 74,
   "metadata": {},
   "outputs": [],
   "source": [
    "key, sample_key = jax.random.split(key)\n",
    "\n",
    "mcs_tail_length = 4\n",
    "mcs_plotted = jnp.arange(12 - mcs_tail_length, 12, 1, dtype=jnp.int32)\n",
    "\n",
    "m_rates_samples = list(map(\n",
    "    lambda m: expected_rates_log_distance(tfb.Softplus()(distance_distribution_acc[m])).sample(sample_shape=SAMPLE_SIZE, seed=sample_key), \n",
    "    m_mask\n",
    "))\n",
    "m_rates_samples = jnp.concatenate(m_rates_samples, axis=0)[:, (12 - mcs_tail_length):]\n",
    "m_rates_samples = jnp.reshape(m_rates_samples, newshape=(-1,))\n",
    "m_rates_samples = pd.DataFrame({\n",
    "    # mnoze przez 10 zeby pozbyc sie numeryki, a przez 4 bo 4 wartosci mcs\n",
    "    \"timestep\": jnp.repeat(jnp.array(m_timesteps) * 10, int(SAMPLE_SIZE * mcs_tail_length)).astype(jnp.int32),\n",
    "    \"mcs\": jnp.tile(mcs_plotted, int(SAMPLE_SIZE * len(m_timesteps))),\n",
    "    \"samples\": m_rates_samples,\n",
    "})\n",
    "\n",
    "pred_rates_samples = list(map(\n",
    "    lambda p: expected_rates_log_distance(tfb.Softplus()(distance_distribution_acc[p])).sample(sample_shape=SAMPLE_SIZE, seed=sample_key), \n",
    "    pred_mask\n",
    "))\n",
    "pred_rates_samples = jnp.concatenate(pred_rates_samples, axis=0)[:, (12 - mcs_tail_length):]\n",
    "pred_rates_samples = jnp.reshape(pred_rates_samples, newshape=(-1,))\n",
    "pred_rates_samples = pd.DataFrame({\n",
    "    \"timestep\": jnp.repeat(jnp.array(pred_timesteps) * 10, int(SAMPLE_SIZE * mcs_tail_length)).astype(jnp.int32),\n",
    "    \"mcs\": jnp.tile(mcs_plotted, int(SAMPLE_SIZE * len(pred_timesteps))),\n",
    "    \"samples\": pred_rates_samples,\n",
    "})"
   ]
  },
  {
   "cell_type": "code",
   "execution_count": 130,
   "metadata": {},
   "outputs": [
    {
     "data": {
      "image/png": "[encoded data removed]",
      "text/plain": [
       "<Figure size 333.624x155.745 with 1 Axes>"
      ]
     },
     "metadata": {
      "needs_background": "light"
     },
     "output_type": "display_data"
    }
   ],
   "source": [
    "plt.rcParams.update(PLOT_PARAMS)\n",
    "plt.rcParams.update({'figure.figsize': (2 * COLUMN_WIDTH * (2 / 3) - 0.033, COLUMN_HIGHT)})\n",
    "\n",
    "fig, ax = plt.subplots(1, 1)\n",
    "\n",
    "# Plot boxplots\n",
    "sns.boxplot(\n",
    "    x=\"timestep\", y=\"samples\", hue=\"mcs\", data=m_rates_samples,\n",
    "    order=time_order, ax=ax, width=0.8, showfliers=False, palette=colors_jet[8:]\n",
    ")\n",
    "sns.boxplot(\n",
    "    x=\"timestep\", y=\"samples\", hue=\"mcs\", data=pred_rates_samples,\n",
    "    order=time_order, ax=ax, width=0.8, showfliers=False, palette=colors_jet[8:]\n",
    ")\n",
    "\n",
    "# Label x and y axes\n",
    "ax.set_xticks((ticks - 4) * 10)\n",
    "ax.set_xticklabels(ticks);\n",
    "ax.set_xlabel(r'time $t$ [s]')\n",
    "ax.set_ylabel(r'Expected data rate $\\lambda$ [Mb/s]')\n",
    "ax.set_yticks(rates_ticks[:-1])\n",
    "ax.set_ylim(rates_ylim)\n",
    "ax.tick_params('y', labelleft=True, left=True, labelright=True, right=True)\n",
    "\n",
    "# Modify legend\n",
    "rates_legend = ax.get_legend_handles_labels()\n",
    "ax.legend(rates_legend[0][:4], rates_legend[1][:4], title=\"MCS\", loc='lower left')\n",
    "\n",
    "# Adjust position\n",
    "# bbox_xdelta = 0.1\n",
    "# rates_new_bbox = ax.get_position().get_points()\n",
    "# rates_new_bbox[0, 0] += bbox_xdelta\n",
    "# ax.set_position(Bbox(rates_new_bbox))\n",
    "\n",
    "# Save figure\n",
    "plt.savefig(\"rates_bars.pdf\", bbox_inches='tight')"
   ]
  },
  {
   "cell_type": "markdown",
   "metadata": {},
   "source": [
    "## Draft"
   ]
  },
  {
   "cell_type": "code",
   "execution_count": null,
   "metadata": {},
   "outputs": [],
   "source": []
  }
 ],
 "metadata": {
  "kernelspec": {
   "display_name": "Python 3.10.4 ('pyncn310')",
   "language": "python",
   "name": "python3"
  },
  "language_info": {
   "codemirror_mode": {
    "name": "ipython",
    "version": 3
   },
   "file_extension": ".py",
   "mimetype": "text/x-python",
   "name": "python",
   "nbconvert_exporter": "python",
   "pygments_lexer": "ipython3",
   "version": "3.10.4"
  },
  "orig_nbformat": 4,
  "vscode": {
   "interpreter": {
    "hash": "54934a5afaccb2ddc951324a0bd74860167bceb796717f7926bef290ae4125ad"
   }
  }
 },
 "nbformat": 4,
 "nbformat_minor": 2
}
