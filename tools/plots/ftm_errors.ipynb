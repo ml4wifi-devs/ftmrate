{
 "cells": [
  {
   "cell_type": "code",
   "execution_count": null,
   "metadata": {},
   "outputs": [],
   "source": [
    "import jax\n",
    "import jax.numpy as jnp\n",
    "import tensorflow_probability.substrates.jax as tfp\n",
    "import seaborn as sns\n",
    "import matplotlib.pyplot as plt\n",
    "from chex import Scalar, Array, PRNGKey\n",
    "\n",
    "from ml4wifi.utils.wifi_specs import *\n",
    "\n",
    "tfb = tfp.bijectors\n",
    "tfd = tfp.distributions"
   ]
  },
  {
   "cell_type": "code",
   "execution_count": null,
   "metadata": {},
   "outputs": [],
   "source": [
    "n_samples = 10e4\n",
    "key = jax.random.PRNGKey(42)\n",
    "\n",
    "true_distance = 20\n",
    "true_snr = REFERENCE_SNR - (REFERENCE_LOSS + 10 * EXPONENT * jnp.log10(true_distance))\n",
    "\n",
    "noisy_distance = tfb.Shift(true_distance)(distance_noise)\n",
    "noisy_snr = distance_to_snr(tfb.Softplus()(noisy_distance))\n",
    "noisy_rate = expected_rates_log_distance(DEFAULT_TX_POWER)(tfb.Softplus()(noisy_distance))"
   ]
  },
  {
   "cell_type": "code",
   "execution_count": null,
   "metadata": {},
   "outputs": [],
   "source": [
    "noisy_rate.batch_shape"
   ]
  },
  {
   "cell_type": "code",
   "execution_count": null,
   "metadata": {},
   "outputs": [],
   "source": [
    "fig = sns.histplot(data=noisy_distance.sample(n_samples, key), kde=True, bins=50)\n",
    "plt.xlabel(\"Distance uncertainty\");\n",
    "plt.axvline(true_distance, color='r', linestyle='--', label='True distance')\n",
    "plt.legend()\n",
    "# plt.savefig(\"distance.jpg\", bbox_inches='tight', dpi=200)\n",
    "plt.show()"
   ]
  },
  {
   "cell_type": "code",
   "execution_count": null,
   "metadata": {},
   "outputs": [],
   "source": [
    "fig = sns.histplot(data=noisy_snr.sample(n_samples, key), kde=True, bins=50)\n",
    "plt.xlabel(\"SNR uncertainty\");\n",
    "plt.axvline(true_snr, color='r', linestyle='--', label='True SNR')\n",
    "plt.legend()\n",
    "# plt.savefig(\"snr.jpg\", bbox_inches='tight', dpi=200)\n",
    "plt.show()"
   ]
  },
  {
   "cell_type": "code",
   "execution_count": null,
   "metadata": {},
   "outputs": [],
   "source": [
    "fig = sns.histplot(data=noisy_rate.sample(n_samples, key)[:, 6:10], bins=100, legend=False)\n",
    "plt.xlabel(\"Data rate uncertainty for each MCS\");\n",
    "plt.legend(title='MCS', loc='upper left', labels=range(9, 3, -1))\n",
    "# plt.savefig(\"rates.jpg\", bbox_inches='tight', dpi=200)\n",
    "plt.show()"
   ]
  },
  {
   "cell_type": "code",
   "execution_count": null,
   "metadata": {},
   "outputs": [],
   "source": []
  }
 ],
 "metadata": {
  "kernelspec": {
   "display_name": "Python 3.10.4 ('pyncn310')",
   "language": "python",
   "name": "python3"
  },
  "language_info": {
   "codemirror_mode": {
    "name": "ipython",
    "version": 3
   },
   "file_extension": ".py",
   "mimetype": "text/x-python",
   "name": "python",
   "nbconvert_exporter": "python",
   "pygments_lexer": "ipython3",
   "version": "3.10.4"
  },
  "orig_nbformat": 4,
  "vscode": {
   "interpreter": {
    "hash": "54934a5afaccb2ddc951324a0bd74860167bceb796717f7926bef290ae4125ad"
   }
  }
 },
 "nbformat": 4,
 "nbformat_minor": 2
}
